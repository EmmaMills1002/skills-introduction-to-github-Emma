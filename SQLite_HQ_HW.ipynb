{
  "nbformat": 4,
  "nbformat_minor": 0,
  "metadata": {
    "colab": {
      "provenance": [],
      "authorship_tag": "ABX9TyNp8A47gXrvGkkaB8nZ1w30",
      "include_colab_link": true
    },
    "kernelspec": {
      "name": "python3",
      "display_name": "Python 3"
    },
    "language_info": {
      "name": "python"
    }
  },
  "cells": [
    {
      "cell_type": "markdown",
      "metadata": {
        "id": "view-in-github",
        "colab_type": "text"
      },
      "source": [
        "<a href=\"https://colab.research.google.com/github/EmmaMills1002/skills-introduction-to-github-Emma/blob/main/SQLite_HQ_HW.ipynb\" target=\"_parent\"><img src=\"https://colab.research.google.com/assets/colab-badge.svg\" alt=\"Open In Colab\"/></a>"
      ]
    },
    {
      "cell_type": "code",
      "execution_count": 42,
      "metadata": {
        "id": "WrFSYTZKXfwF"
      },
      "outputs": [],
      "source": [
        "import sqlite3\n",
        "conn = sqlite3.connect('student_grades.db')\n",
        "cursor = conn.cursor()"
      ]
    },
    {
      "cell_type": "code",
      "source": [
        "conn.execute('''CREATE TABLE GRADES\n",
        "(grade_id INTEGER PRIMARY KEY AUTOINCREMENT,\n",
        "student_id INTEGER NOT NULL,\n",
        "subject TEXT NOT NULL,\n",
        "grade INTEGER NOT NULL,\n",
        "FOREIGN KEY(student_id) REFERENCES STUDENTS(student_id));''')\n",
        "conn.close()"
      ],
      "metadata": {
        "id": "T0pO-QIWe6nS"
      },
      "execution_count": null,
      "outputs": []
    },
    {
      "cell_type": "code",
      "source": [
        "students_data = [\n",
        "    (1, 'Alice', 'Johnson'),\n",
        "    (2, 'Bob', 'Smith'),\n",
        "    (3, 'Carol', 'White'),\n",
        "    (4, 'David', 'Brown'),\n",
        "    (5, 'Eve', 'Davis')\n",
        "]\n",
        "grades_data = [\n",
        "    (1, 1, 'Math', 90),\n",
        "    (2, 1, 'English', 88),\n",
        "    (3, 1, 'History', 90),\n",
        "    (4, 2, 'English', 76),\n",
        "    (5, 2, 'Math', 67),\n",
        "    (6, 2, 'History', 89),\n",
        "    (7, 3, 'Science', 99),\n",
        "    (8, 3, 'English', 90),\n",
        "    (9, 3, 'History', 87),\n",
        "    (10, 4, 'Math', 89),\n",
        "    (11, 4, 'Science', 92),\n",
        "    (12, 4, 'History', 90),\n",
        "    (13, 5, 'Science', 99),\n",
        "    (14, 5, 'Math', 90),\n",
        "    (15, 5, 'English', 90)\n",
        "]\n",
        "conn.executemany('''\n",
        "INSERT INTO STUDENTS (student_id, first_name, last_name)\n",
        "VALUES (?, ?, ?);\n",
        "''', students_data)\n",
        "conn.executemany('''\n",
        "INSERT INTO GRADES (grade_id, student_id, subject, grade)\n",
        "VALUES (?, ?, ?, ?);\n",
        "''', grades_data)\n",
        "conn.commit()\n",
        "conn.close()"
      ],
      "metadata": {
        "id": "iruDPQxHc9Io"
      },
      "execution_count": 17,
      "outputs": []
    },
    {
      "cell_type": "code",
      "source": [
        "query1 = '''\n",
        "SELECT\n",
        "  students.first_name,\n",
        "  students.last_name,\n",
        "  grades.subject,\n",
        "  grades.grade\n",
        "FROM\n",
        "  students\n",
        "JOIN\n",
        "  grades ON students.student_id = grades.student_id;\n",
        "'''\n",
        "cursor.execute(query1)\n",
        "results = cursor.fetchall()\n",
        "for row in results:\n",
        "    print(row)"
      ],
      "metadata": {
        "colab": {
          "base_uri": "https://localhost:8080/"
        },
        "id": "KfNEYsXweGAp",
        "outputId": "f61a263f-20be-4146-f3bf-35919e85280f"
      },
      "execution_count": 33,
      "outputs": [
        {
          "output_type": "stream",
          "name": "stdout",
          "text": [
            "('Alice', 'Johnson', 'Math', 90)\n",
            "('Alice', 'Johnson', 'English', 88)\n",
            "('Alice', 'Johnson', 'History', 90)\n",
            "('Bob', 'Smith', 'English', 76)\n",
            "('Bob', 'Smith', 'Math', 67)\n",
            "('Bob', 'Smith', 'History', 89)\n",
            "('Carol', 'White', 'Science', 99)\n",
            "('Carol', 'White', 'English', 90)\n",
            "('Carol', 'White', 'History', 87)\n",
            "('David', 'Brown', 'Math', 89)\n",
            "('David', 'Brown', 'Science', 92)\n",
            "('David', 'Brown', 'History', 90)\n",
            "('Eve', 'Davis', 'Science', 99)\n",
            "('Eve', 'Davis', 'Math', 90)\n",
            "('Eve', 'Davis', 'English', 90)\n"
          ]
        }
      ]
    },
    {
      "cell_type": "code",
      "source": [
        "query2 = '''\n",
        "SELECT\n",
        "  students.first_name,\n",
        "  students.last_name,\n",
        "  AVG(grades.grade) AS average_grade\n",
        "FROM\n",
        "  students\n",
        "JOIN\n",
        "  grades ON students.student_id = grades.student_id\n",
        "GROUP BY\n",
        "  students.student_id;\n",
        "  '''\n",
        "cursor.execute(query2)\n",
        "results = cursor.fetchall()\n",
        "for row in results:\n",
        "    print(row)"
      ],
      "metadata": {
        "colab": {
          "base_uri": "https://localhost:8080/"
        },
        "id": "8P5UwZYjgNDT",
        "outputId": "6ce67309-7fe3-49c5-fbf0-a154cf85fb1c"
      },
      "execution_count": 34,
      "outputs": [
        {
          "output_type": "stream",
          "name": "stdout",
          "text": [
            "('Alice', 'Johnson', 89.33333333333333)\n",
            "('Bob', 'Smith', 77.33333333333333)\n",
            "('Carol', 'White', 92.0)\n",
            "('David', 'Brown', 90.33333333333333)\n",
            "('Eve', 'Davis', 93.0)\n"
          ]
        }
      ]
    },
    {
      "cell_type": "code",
      "source": [
        "query3 = '''\n",
        "SELECT\n",
        "  students.first_name,\n",
        "  students.last_name,\n",
        "  AVG(grades.grade) AS average_grade\n",
        "FROM\n",
        "  students\n",
        "JOIN\n",
        "  grades ON students.student_id = grades.student_id\n",
        "GROUP BY\n",
        "  students.student_id\n",
        "ORDER BY\n",
        "  average_grade DESC\n",
        "LIMIT 1;\n",
        "'''\n",
        "cursor.execute(query3)\n",
        "results = cursor.fetchall()\n",
        "for row in results:\n",
        "    print(row)"
      ],
      "metadata": {
        "colab": {
          "base_uri": "https://localhost:8080/"
        },
        "id": "cW0G65qcgX4S",
        "outputId": "335aeb63-4d5f-4c3a-e381-09cfbc572435"
      },
      "execution_count": 36,
      "outputs": [
        {
          "output_type": "stream",
          "name": "stdout",
          "text": [
            "('Eve', 'Davis', 93.0)\n"
          ]
        }
      ]
    },
    {
      "cell_type": "code",
      "source": [
        "query4 = '''\n",
        "SELECT AVG(grade) AS average_math_grade\n",
        "FROM\n",
        "  grades\n",
        "WHERE\n",
        "  subject = 'Math';\n",
        "'''\n",
        "cursor.execute(query4)\n",
        "results = cursor.fetchall()\n",
        "for row in results:\n",
        "    print(row)"
      ],
      "metadata": {
        "colab": {
          "base_uri": "https://localhost:8080/"
        },
        "id": "bEvf7feOgxUr",
        "outputId": "ef694b77-a821-4314-8ce0-04e5e94cabea"
      },
      "execution_count": 37,
      "outputs": [
        {
          "output_type": "stream",
          "name": "stdout",
          "text": [
            "(84.0,)\n"
          ]
        }
      ]
    },
    {
      "cell_type": "code",
      "source": [
        "query5 = '''\n",
        "SELECT\n",
        "  students.first_name,\n",
        "  students.last_name,\n",
        "  grades.subject,\n",
        "  grades.grade\n",
        "FROM\n",
        "  students\n",
        "JOIN\n",
        "  grades ON students.student_id = grades.student_id\n",
        "WHERE\n",
        "  grades.grade > 90;\n",
        "'''\n",
        "cursor.execute(query5)\n",
        "results = cursor.fetchall()\n",
        "for row in results:\n",
        "    print(row)"
      ],
      "metadata": {
        "colab": {
          "base_uri": "https://localhost:8080/"
        },
        "id": "q_-L5fOrhL0w",
        "outputId": "1d89be68-3b6e-4561-9fc0-d45c319fe7a7"
      },
      "execution_count": 38,
      "outputs": [
        {
          "output_type": "stream",
          "name": "stdout",
          "text": [
            "('Carol', 'White', 'Science', 99)\n",
            "('David', 'Brown', 'Science', 92)\n",
            "('Eve', 'Davis', 'Science', 99)\n"
          ]
        }
      ]
    },
    {
      "cell_type": "code",
      "source": [
        "conn.close()"
      ],
      "metadata": {
        "id": "YLaIVGkJhZoF"
      },
      "execution_count": 39,
      "outputs": []
    },
    {
      "cell_type": "code",
      "source": [
        "import pandas as pd"
      ],
      "metadata": {
        "id": "L_Z1PUi9hi4i"
      },
      "execution_count": 40,
      "outputs": []
    },
    {
      "cell_type": "code",
      "source": [
        "students_df = pd.read_sql_query('SELECT * FROM STUDENTS', conn)\n",
        "grades_df = pd.read_sql_query('SELECT * FROM GRADES', conn)"
      ],
      "metadata": {
        "id": "8nyCkt5Whlka"
      },
      "execution_count": 43,
      "outputs": []
    },
    {
      "cell_type": "code",
      "source": [
        "join_query = '''\n",
        "SELECT\n",
        "  students.first_name,\n",
        "  students.last_name,\n",
        "  grades.subject,\n",
        "  grades.grade\n",
        "FROM\n",
        "  students\n",
        "JOIN\n",
        "  grades ON students.student_id = grades.student_id;\n",
        "'''\n",
        "combined_df = pd.read_sql_query(join_query, conn)"
      ],
      "metadata": {
        "id": "w4QB3PADhxUP"
      },
      "execution_count": 45,
      "outputs": []
    },
    {
      "cell_type": "code",
      "source": [
        "import matplotlib.pyplot as plt"
      ],
      "metadata": {
        "id": "fxxSOUQvh91h"
      },
      "execution_count": 46,
      "outputs": []
    },
    {
      "cell_type": "code",
      "source": [
        "avg_grades_student = combined_df.groupby('first_name')['grade'].mean()\n",
        "plt.figure(figsize=(10, 6))\n",
        "avg_grades_student.plot(kind='bar')\n",
        "plt.xlabel('Student')\n",
        "plt.ylabel('Average Grade')\n",
        "plt.title('Average Grades of Students')\n",
        "plt.show()"
      ],
      "metadata": {
        "colab": {
          "base_uri": "https://localhost:8080/",
          "height": 477
        },
        "id": "QVeZeeARh_0W",
        "outputId": "e857ab64-5aa1-46e4-c0ab-b0762eb1bf5a"
      },
      "execution_count": 53,
      "outputs": [
        {
          "output_type": "display_data",
          "data": {
            "text/plain": [
              "<Figure size 1000x600 with 1 Axes>"
            ],
            "image/png": "[encoded data removed]"
          },
          "metadata": {}
        }
      ]
    },
    {
      "cell_type": "code",
      "source": [
        "avg_grades_subject = combined_df.groupby('subject')['grade'].mean()\n",
        "plt.figure(figsize=(10, 6))\n",
        "avg_grades_subject.plot(kind='bar')\n",
        "plt.xlabel('Subject')\n",
        "plt.ylabel('Average Grade')\n",
        "plt.title('Average Grades by Subject')\n",
        "plt.show()"
      ],
      "metadata": {
        "colab": {
          "base_uri": "https://localhost:8080/",
          "height": 483
        },
        "id": "Bux6BKYxihU5",
        "outputId": "d0346348-2e92-4a77-9e5d-72081bf12385"
      },
      "execution_count": 55,
      "outputs": [
        {
          "output_type": "display_data",
          "data": {
            "text/plain": [
              "<Figure size 1000x600 with 1 Axes>"
            ],
            "image/png": "[encoded data removed]"
          },
          "metadata": {}
        }
      ]
    }
  ]
}